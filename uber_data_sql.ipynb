{
  "nbformat": 4,
  "nbformat_minor": 0,
  "metadata": {
    "colab": {
      "provenance": [],
      "authorship_tag": "ABX9TyOQ6u1lWv26qo8ONOVZHqkV",
      "include_colab_link": true
    },
    "kernelspec": {
      "name": "python3",
      "display_name": "Python 3"
    },
    "language_info": {
      "name": "python"
    }
  },
  "cells": [
    {
      "cell_type": "markdown",
      "metadata": {
        "id": "view-in-github",
        "colab_type": "text"
      },
      "source": [
        "<a href=\"https://colab.research.google.com/github/Siri319/Uber_Data/blob/main/uber_data_sql.ipynb\" target=\"_parent\"><img src=\"https://colab.research.google.com/assets/colab-badge.svg\" alt=\"Open In Colab\"/></a>"
      ]
    },
    {
      "cell_type": "code",
      "source": [
        "!pip install -q pandasql\n",
        "from pandasql import sqldf\n",
        "pysqldf = lambda q: sqldf(q, globals())\n"
      ],
      "metadata": {
        "colab": {
          "base_uri": "https://localhost:8080/"
        },
        "id": "Iu8G3MV0NTmA",
        "outputId": "3c5f3de8-8c20-45fd-a6c5-ad0c6adbe6ba"
      },
      "execution_count": null,
      "outputs": [
        {
          "output_type": "stream",
          "name": "stdout",
          "text": [
            "  Preparing metadata (setup.py) ... \u001b[?25l\u001b[?25hdone\n",
            "  Building wheel for pandasql (setup.py) ... \u001b[?25l\u001b[?25hdone\n"
          ]
        }
      ]
    },
    {
      "cell_type": "code",
      "source": [
        "import pandas as pd\n",
        "\n",
        "# Replace 'your_file.csv' with your actual filename\n",
        "df = pd.read_csv('uber-data-cleaned.csv')\n",
        "\n"
      ],
      "metadata": {
        "id": "Rx-W7TGsNxui"
      },
      "execution_count": 6,
      "outputs": []
    },
    {
      "cell_type": "code",
      "source": [
        "# Example SQL query\n",
        "query = \"SELECT * FROM df ;\"\n",
        "result = pysqldf(query)\n",
        "print(result)\n"
      ],
      "metadata": {
        "colab": {
          "base_uri": "https://localhost:8080/"
        },
        "id": "jtEXUTH5OIDR",
        "outputId": "385f9a32-1664-42e1-b5dc-1431aff5e1f6"
      },
      "execution_count": null,
      "outputs": [
        {
          "output_type": "stream",
          "name": "stdout",
          "text": [
            "      Request id Pickup point  Driver id             Status Request date  \\\n",
            "0            619      Airport        1.0          Completed   11-07-2016   \n",
            "1            867      Airport        1.0          Completed   11-07-2016   \n",
            "2           1807         City        1.0          Completed   12-07-2016   \n",
            "3           2532      Airport        1.0          Completed   12-07-2016   \n",
            "4           3112         City        1.0          Completed   13-07-2016   \n",
            "...          ...          ...        ...                ...          ...   \n",
            "6740        6745         City        NaN  No Cars Available   15-07-2016   \n",
            "6741        6752      Airport        NaN  No Cars Available   15-07-2016   \n",
            "6742        6751         City        NaN  No Cars Available   15-07-2016   \n",
            "6743        6754         City        NaN  No Cars Available   15-07-2016   \n",
            "6744        6753      Airport        NaN  No Cars Available   15-07-2016   \n",
            "\n",
            "     Request time  Drop  date Drop time  Trip Duration (mins)  \n",
            "0        11:51:00  11-07-2016  13:00:00             69.000000  \n",
            "1        17:57:00  11-07-2016  18:47:00             50.000000  \n",
            "2        09:17:00  12-07-2016  09:58:00             41.000000  \n",
            "3        21:08:00  12-07-2016  22:03:00             55.000000  \n",
            "4        08:33:16  13-07-2016  09:25:47             52.516667  \n",
            "...           ...         ...       ...                   ...  \n",
            "6740     23:49:03        None      None                   NaN  \n",
            "6741     23:50:05        None      None                   NaN  \n",
            "6742     23:52:06        None      None                   NaN  \n",
            "6743     23:54:39        None      None                   NaN  \n",
            "6744     23:55:03        None      None                   NaN  \n",
            "\n",
            "[6745 rows x 9 columns]\n"
          ]
        }
      ]
    },
    {
      "cell_type": "code",
      "source": [
        "# Total number of requests\n",
        "query = \"select count(`Request id`) from df ;\"\n",
        "result = pysqldf(query)\n",
        "print(result)\n"
      ],
      "metadata": {
        "colab": {
          "base_uri": "https://localhost:8080/"
        },
        "id": "8mHZ9UN-Vmf4",
        "outputId": "06c57c1b-a1e3-4903-e081-36bc60a6ddef"
      },
      "execution_count": null,
      "outputs": [
        {
          "output_type": "stream",
          "name": "stdout",
          "text": [
            "   count(`Request id`)\n",
            "0                 6745\n"
          ]
        }
      ]
    },
    {
      "cell_type": "code",
      "source": [
        "# Number of completed trips\n",
        "query = \"select count(`Request id`) from df where `Status` = 'Completed'\"\n",
        "result = pysqldf(query)\n",
        "print(\"The number of completed trips -\")\n",
        "print(result)"
      ],
      "metadata": {
        "colab": {
          "base_uri": "https://localhost:8080/"
        },
        "id": "TrXNOCIpV-Lg",
        "outputId": "73b19db2-abdb-4764-e3ea-3a173ac092aa"
      },
      "execution_count": null,
      "outputs": [
        {
          "output_type": "stream",
          "name": "stdout",
          "text": [
            "The number of completed trips -\n",
            "   count(`Request id`)\n",
            "0                 2831\n"
          ]
        }
      ]
    },
    {
      "cell_type": "code",
      "source": [
        "# Number of cancelled trips\n",
        "query = \"select count(`Request id`) from df where `Status` = 'Cancelled'\"\n",
        "result = pysqldf(query)\n",
        "print(\"The number of cancelled trips -\")\n",
        "print(result)\n"
      ],
      "metadata": {
        "colab": {
          "base_uri": "https://localhost:8080/"
        },
        "id": "y-nbiiyDWw65",
        "outputId": "48ff8b53-2f77-4f27-9a03-40a71d78d187"
      },
      "execution_count": null,
      "outputs": [
        {
          "output_type": "stream",
          "name": "stdout",
          "text": [
            "The number of cancelled trips -\n",
            "   count(`Request id`)\n",
            "0                 1264\n"
          ]
        }
      ]
    },
    {
      "cell_type": "code",
      "source": [
        "# Number of requests with “No Cars Available”\n",
        "query = \"select count(`Request id`) from df where `Status` = 'No Cars Available'\"\n",
        "result = pysqldf(query)\n",
        "print(\"The number of requests with “No Cars Available” -\")\n",
        "print(result)"
      ],
      "metadata": {
        "colab": {
          "base_uri": "https://localhost:8080/"
        },
        "id": "DLsf6ncIYBHi",
        "outputId": "a67fa649-891c-4e54-88b4-e2e1cc83478b"
      },
      "execution_count": null,
      "outputs": [
        {
          "output_type": "stream",
          "name": "stdout",
          "text": [
            "The number of requests with “No Cars Available” -\n",
            "   count(`Request id`)\n",
            "0                 2650\n"
          ]
        }
      ]
    },
    {
      "cell_type": "code",
      "source": [
        "# Number of requests from each pickup point (City vs Airport)\n",
        "query = \"select count(`Request id`) from df where `Pickup point` = 'City' ;\"\n",
        "result = pysqldf(query)\n",
        "print(result)\n",
        "\n",
        "query = \"select count(`Request id`) from df where `Pickup point` = 'Airport' ;\"\n",
        "result = pysqldf(query)\n",
        "print(result)"
      ],
      "metadata": {
        "colab": {
          "base_uri": "https://localhost:8080/"
        },
        "id": "Sks3QDWyY530",
        "outputId": "b95e21a1-8d79-4497-f55d-f8ee0fedfef0"
      },
      "execution_count": null,
      "outputs": [
        {
          "output_type": "stream",
          "name": "stdout",
          "text": [
            "The number of requests from city -\n",
            "   count(`Request id`)\n",
            "0                 3507\n",
            "The number of requests from airport \n",
            "   count(`Request id`)\n",
            "0                 3238\n"
          ]
        }
      ]
    },
    {
      "cell_type": "code",
      "source": [
        "# Which pickup point has the most failures?\n",
        "query = \"select `Pickup point`, count(`Request id`) from df where `Status` = 'No Cars Available' group by `Pickup point`;\"\n",
        "result = pysqldf(query)\n",
        "print(result)"
      ],
      "metadata": {
        "colab": {
          "base_uri": "https://localhost:8080/"
        },
        "id": "bqoc-kr9a7-f",
        "outputId": "bb0fe244-c7f4-4ec8-fc16-e0d7c6d1b73d"
      },
      "execution_count": null,
      "outputs": [
        {
          "output_type": "stream",
          "name": "stdout",
          "text": [
            "  Pickup point  count(`Request id`)\n",
            "0      Airport                 1713\n",
            "1         City                  937\n"
          ]
        }
      ]
    },
    {
      "cell_type": "code",
      "source": [
        "# Number of requests by hour of the day (peak hours)\n",
        "query = \"select strftime('%H', `Request time`), count(`Request id`) from df group by strftime('%H', `Request time`);\"\n",
        "result = pysqldf(query)\n",
        "print(result)"
      ],
      "metadata": {
        "colab": {
          "base_uri": "https://localhost:8080/"
        },
        "id": "WmaEkspl8K7V",
        "outputId": "efd3b2a0-b63d-47db-c750-e283347bc66a"
      },
      "execution_count": 9,
      "outputs": [
        {
          "output_type": "stream",
          "name": "stdout",
          "text": [
            "   strftime('%H', `Request time`)  count(`Request id`)\n",
            "0                              00                   99\n",
            "1                              01                   85\n",
            "2                              02                   99\n",
            "3                              03                   92\n",
            "4                              04                  203\n",
            "5                              05                  445\n",
            "6                              06                  398\n",
            "7                              07                  406\n",
            "8                              08                  423\n",
            "9                              09                  431\n",
            "10                             10                  243\n",
            "11                             11                  171\n",
            "12                             12                  184\n",
            "13                             13                  160\n",
            "14                             14                  136\n",
            "15                             15                  171\n",
            "16                             16                  159\n",
            "17                             17                  418\n",
            "18                             18                  510\n",
            "19                             19                  473\n",
            "20                             20                  492\n",
            "21                             21                  449\n",
            "22                             22                  304\n",
            "23                             23                  194\n"
          ]
        }
      ]
    },
    {
      "cell_type": "code",
      "source": [
        "# Cancelled or failed requests by hour\n",
        "query = \"select strftime('%H', `Request time`), count(`Request id`) from df where `Status` = 'Cancelled' or `Status` = 'No Cars Available' group by strftime('%H', `Request time`);\"\n",
        "result = pysqldf(query)\n",
        "print(result)\n"
      ],
      "metadata": {
        "colab": {
          "base_uri": "https://localhost:8080/"
        },
        "id": "Dyrk3dBaADWv",
        "outputId": "671f9d12-916c-4345-d40e-178b90e9bdcd"
      },
      "execution_count": 11,
      "outputs": [
        {
          "output_type": "stream",
          "name": "stdout",
          "text": [
            "   strftime('%H', `Request time`)  count(`Request id`)\n",
            "0                              00                   59\n",
            "1                              01                   60\n",
            "2                              02                   62\n",
            "3                              03                   58\n",
            "4                              04                  125\n",
            "5                              05                  260\n",
            "6                              06                  231\n",
            "7                              07                  232\n",
            "8                              08                  268\n",
            "9                              09                  258\n",
            "10                             10                  127\n",
            "11                             11                   56\n",
            "12                             12                   63\n",
            "13                             13                   71\n",
            "14                             14                   48\n",
            "15                             15                   69\n",
            "16                             16                   68\n",
            "17                             17                  267\n",
            "18                             18                  346\n",
            "19                             19                  307\n",
            "20                             20                  331\n",
            "21                             21                  307\n",
            "22                             22                  150\n",
            "23                             23                   91\n"
          ]
        }
      ]
    },
    {
      "cell_type": "code",
      "source": [
        "# Trip completion rate by time of day\n",
        "query = \"select strftime('%H', `Request time`), count(`Request id`) from df where `Status` = 'Completed' group by strftime('%H', `Request time`);\"\n",
        "result = pysqldf(query)\n",
        "print(result)"
      ],
      "metadata": {
        "colab": {
          "base_uri": "https://localhost:8080/"
        },
        "id": "coeoRFIiBLrP",
        "outputId": "08198891-1797-4ffd-c5f5-4bb7e25ddaf7"
      },
      "execution_count": 12,
      "outputs": [
        {
          "output_type": "stream",
          "name": "stdout",
          "text": [
            "   strftime('%H', `Request time`)  count(`Request id`)\n",
            "0                              00                   40\n",
            "1                              01                   25\n",
            "2                              02                   37\n",
            "3                              03                   34\n",
            "4                              04                   78\n",
            "5                              05                  185\n",
            "6                              06                  167\n",
            "7                              07                  174\n",
            "8                              08                  155\n",
            "9                              09                  173\n",
            "10                             10                  116\n",
            "11                             11                  115\n",
            "12                             12                  121\n",
            "13                             13                   89\n",
            "14                             14                   88\n",
            "15                             15                  102\n",
            "16                             16                   91\n",
            "17                             17                  151\n",
            "18                             18                  164\n",
            "19                             19                  166\n",
            "20                             20                  161\n",
            "21                             21                  142\n",
            "22                             22                  154\n",
            "23                             23                  103\n"
          ]
        }
      ]
    },
    {
      "cell_type": "code",
      "source": [
        "# Average trip duration\n",
        "query = \"select avg(`Trip duration (mins)`) from df ;\"\n",
        "result = pysqldf(query)\n",
        "print(result)\n",
        "print(\"_________________________________________________________________\")\n",
        "\n",
        "# Minimum and maximum trip duration\n",
        "query = \"select min(`Trip duration (mins)`), max(`Trip duration (mins)`) from df ;\"\n",
        "result = pysqldf(query)\n",
        "print(result)\n",
        "print(\"_________________________________________________________________\")\n",
        "\n",
        "# Compare average trip duration between pickup points\n",
        "query = \"select `Pickup point`, avg(`Trip duration (mins)`) from df group by `Pickup point`;\"\n",
        "result = pysqldf(query)\n",
        "print(result)"
      ],
      "metadata": {
        "colab": {
          "base_uri": "https://localhost:8080/"
        },
        "id": "9XX5AbztBWqK",
        "outputId": "ac806cb6-e3c3-4e40-f298-3091078a25d8"
      },
      "execution_count": 17,
      "outputs": [
        {
          "output_type": "stream",
          "name": "stdout",
          "text": [
            "   avg(`Trip duration (mins)`)\n",
            "0                     2.565642\n",
            "_________________________________________________________________\n",
            "   min(`Trip duration (mins)`)  max(`Trip duration (mins)`)\n",
            "0                 -1413.033333                         83.0\n",
            "_________________________________________________________________\n",
            "  Pickup point  avg(`Trip duration (mins)`)\n",
            "0      Airport                   -12.870774\n",
            "1         City                    16.185406\n"
          ]
        }
      ]
    },
    {
      "cell_type": "code",
      "source": [
        "# Number of repeated failures from a pickup point at a specific hour\n",
        "query = \"select `Pickup point`, strftime('%H', `Request time`), count(`Request id`) from df where `Status` = 'No Cars Available' group by `Pickup point`, strftime('%H', `Request time`);\"\n",
        "result = pysqldf(query)\n",
        "print(result)\n",
        "print(\"_____________________________________________________________________\")\n",
        "# Most common hours for cancelled trips\n",
        "query = \"select `Pickup point`, strftime('%H', `Request time`), count(`Request id`) from df where `Status` = 'Cancelled' group by `Pickup point`, strftime('%H', `Request time`);\"\n",
        "result = pysqldf(query)\n",
        "print(result)\n",
        "print(\"____________________________________________________________________\")\n",
        "# Times when No Cars Available is highest\n",
        "query = \"select `Pickup point`, strftime('%H', `Request time`), count(`Request id`) from df where `Status` = 'No Cars Available' group by `Pickup point`, strftime('%H', `Request time`);\"\n",
        "result = pysqldf(query)\n",
        "\n"
      ],
      "metadata": {
        "colab": {
          "base_uri": "https://localhost:8080/"
        },
        "id": "9lldZQCtCHzT",
        "outputId": "46f4052c-fe51-4140-f582-6a21074e4814"
      },
      "execution_count": 21,
      "outputs": [
        {
          "output_type": "stream",
          "name": "stdout",
          "text": [
            "   Pickup point strftime('%H', `Request time`)  count(`Request id`)\n",
            "0       Airport                             00                   30\n",
            "1       Airport                             01                   29\n",
            "2       Airport                             02                   25\n",
            "3       Airport                             03                   30\n",
            "4       Airport                             04                   34\n",
            "5       Airport                             05                    3\n",
            "6       Airport                             06                    4\n",
            "7       Airport                             07                    3\n",
            "8       Airport                             08                    4\n",
            "9       Airport                             09                    7\n",
            "10      Airport                             10                   13\n",
            "11      Airport                             11                   10\n",
            "12      Airport                             12                   14\n",
            "13      Airport                             13                   21\n",
            "14      Airport                             14                    7\n",
            "15      Airport                             15                   13\n",
            "16      Airport                             16                    9\n",
            "17      Airport                             17                  215\n",
            "18      Airport                             18                  309\n",
            "19      Airport                             19                  268\n",
            "20      Airport                             20                  275\n",
            "21      Airport                             21                  254\n",
            "22      Airport                             22                  100\n",
            "23      Airport                             23                   36\n",
            "24         City                             00                   26\n",
            "25         City                             01                   27\n",
            "26         City                             02                   32\n",
            "27         City                             03                   26\n",
            "28         City                             04                   40\n",
            "29         City                             05                   81\n",
            "30         City                             06                   82\n",
            "31         City                             07                   60\n",
            "32         City                             08                   86\n",
            "33         City                             09                   76\n",
            "34         City                             10                   52\n",
            "35         City                             11                   31\n",
            "36         City                             12                   30\n",
            "37         City                             13                   32\n",
            "38         City                             14                   30\n",
            "39         City                             15                   35\n",
            "40         City                             16                   37\n",
            "41         City                             17                   17\n",
            "42         City                             18                   13\n",
            "43         City                             19                   15\n",
            "44         City                             20                   15\n",
            "45         City                             21                   11\n",
            "46         City                             22                   38\n",
            "47         City                             23                   45\n",
            "_____________________________________________________________________\n",
            "   Pickup point strftime('%H', `Request time`)  count(`Request id`)\n",
            "0       Airport                             04                    2\n",
            "1       Airport                             05                    4\n",
            "2       Airport                             06                    4\n",
            "3       Airport                             07                    5\n",
            "4       Airport                             08                    2\n",
            "5       Airport                             09                    8\n",
            "6       Airport                             10                    9\n",
            "7       Airport                             11                    5\n",
            "8       Airport                             12                   10\n",
            "9       Airport                             13                    9\n",
            "10      Airport                             14                    6\n",
            "11      Airport                             15                   11\n",
            "12      Airport                             16                   14\n",
            "13      Airport                             17                   19\n",
            "14      Airport                             18                   15\n",
            "15      Airport                             19                   15\n",
            "16      Airport                             20                   29\n",
            "17      Airport                             21                   28\n",
            "18      Airport                             22                    3\n",
            "19         City                             00                    3\n",
            "20         City                             01                    4\n",
            "21         City                             02                    5\n",
            "22         City                             03                    2\n",
            "23         City                             04                   49\n",
            "24         City                             05                  172\n",
            "25         City                             06                  141\n",
            "26         City                             07                  164\n",
            "27         City                             08                  176\n",
            "28         City                             09                  167\n",
            "29         City                             10                   53\n",
            "30         City                             11                   10\n",
            "31         City                             12                    9\n",
            "32         City                             13                    9\n",
            "33         City                             14                    5\n",
            "34         City                             15                   10\n",
            "35         City                             16                    8\n",
            "36         City                             17                   16\n",
            "37         City                             18                    9\n",
            "38         City                             19                    9\n",
            "39         City                             20                   12\n",
            "40         City                             21                   14\n",
            "41         City                             22                    9\n",
            "42         City                             23                   10\n",
            "____________________________________________________________________\n"
          ]
        }
      ]
    },
    {
      "cell_type": "code",
      "source": [
        "# Compare failure rates between City vs Airport\n",
        "query = \"select `Pickup point`, strftime('%H', `Request time`), count(`Request id`) from df where `Status` = 'No Cars Available' group by `Pickup point`, strftime('%H', `Request time`);\"\n",
        "result = pysqldf(query)\n",
        "print(result)\n",
        "print(\"_____________________________________________________________________\")\n",
        "\n",
        "# Failure rate by hour\n",
        "query = \"select strftime('%H', `Request time`), count(`Request id`) from df where `Status` = 'No Cars Available' group by strftime('%H', `Request time`);\"\n",
        "result = pysqldf(query)\n",
        "print(result)"
      ],
      "metadata": {
        "colab": {
          "base_uri": "https://localhost:8080/"
        },
        "id": "xCntfS4zCugw",
        "outputId": "e755e4c6-1b69-42d9-8e82-d6eb9eb45bc6"
      },
      "execution_count": 23,
      "outputs": [
        {
          "output_type": "stream",
          "name": "stdout",
          "text": [
            "   Pickup point strftime('%H', `Request time`)  count(`Request id`)\n",
            "0       Airport                             00                   30\n",
            "1       Airport                             01                   29\n",
            "2       Airport                             02                   25\n",
            "3       Airport                             03                   30\n",
            "4       Airport                             04                   34\n",
            "5       Airport                             05                    3\n",
            "6       Airport                             06                    4\n",
            "7       Airport                             07                    3\n",
            "8       Airport                             08                    4\n",
            "9       Airport                             09                    7\n",
            "10      Airport                             10                   13\n",
            "11      Airport                             11                   10\n",
            "12      Airport                             12                   14\n",
            "13      Airport                             13                   21\n",
            "14      Airport                             14                    7\n",
            "15      Airport                             15                   13\n",
            "16      Airport                             16                    9\n",
            "17      Airport                             17                  215\n",
            "18      Airport                             18                  309\n",
            "19      Airport                             19                  268\n",
            "20      Airport                             20                  275\n",
            "21      Airport                             21                  254\n",
            "22      Airport                             22                  100\n",
            "23      Airport                             23                   36\n",
            "24         City                             00                   26\n",
            "25         City                             01                   27\n",
            "26         City                             02                   32\n",
            "27         City                             03                   26\n",
            "28         City                             04                   40\n",
            "29         City                             05                   81\n",
            "30         City                             06                   82\n",
            "31         City                             07                   60\n",
            "32         City                             08                   86\n",
            "33         City                             09                   76\n",
            "34         City                             10                   52\n",
            "35         City                             11                   31\n",
            "36         City                             12                   30\n",
            "37         City                             13                   32\n",
            "38         City                             14                   30\n",
            "39         City                             15                   35\n",
            "40         City                             16                   37\n",
            "41         City                             17                   17\n",
            "42         City                             18                   13\n",
            "43         City                             19                   15\n",
            "44         City                             20                   15\n",
            "45         City                             21                   11\n",
            "46         City                             22                   38\n",
            "47         City                             23                   45\n",
            "_____________________________________________________________________\n",
            "   strftime('%H', `Request time`)  count(`Request id`)\n",
            "0                              00                   56\n",
            "1                              01                   56\n",
            "2                              02                   57\n",
            "3                              03                   56\n",
            "4                              04                   74\n",
            "5                              05                   84\n",
            "6                              06                   86\n",
            "7                              07                   63\n",
            "8                              08                   90\n",
            "9                              09                   83\n",
            "10                             10                   65\n",
            "11                             11                   41\n",
            "12                             12                   44\n",
            "13                             13                   53\n",
            "14                             14                   37\n",
            "15                             15                   48\n",
            "16                             16                   46\n",
            "17                             17                  232\n",
            "18                             18                  322\n",
            "19                             19                  283\n",
            "20                             20                  290\n",
            "21                             21                  265\n",
            "22                             22                  138\n",
            "23                             23                   81\n"
          ]
        }
      ]
    },
    {
      "cell_type": "code",
      "source": [
        "# Requests per day\n",
        "query = \"select date(`Request date`), count(`Request id`) from df group by date(`Request date`);\"\n",
        "result = pysqldf(query)\n",
        "print(result)\n",
        "print(\"_____________________________________________________________________\")\n",
        "\n",
        "# Most active days\n",
        "query = \"select date(`Request date`), count(`Request id`) from df group by date(`Request date`) order by count(`Request id`) desc;\"\n",
        "result = pysqldf(query)\n",
        "print(result)\n",
        "print(\"_____________________________________________________________________\")\n",
        "\n",
        "# Failure trends across dates\n",
        "query = \"select date(`Request date`), count(`Request id`) from df where `Status` = 'No Cars Available' group by date(`Request date`);\"\n",
        "result = pysqldf(query)\n",
        "print(result)\n",
        "\n"
      ],
      "metadata": {
        "colab": {
          "base_uri": "https://localhost:8080/"
        },
        "id": "KlLkmjOHDN2j",
        "outputId": "cdbe2d9a-7329-4ac5-9a2a-7b839a0fac78"
      },
      "execution_count": 24,
      "outputs": [
        {
          "output_type": "stream",
          "name": "stdout",
          "text": [
            "  date(`Request date`)  count(`Request id`)\n",
            "0                 None                 6745\n",
            "_____________________________________________________________________\n",
            "  date(`Request date`)  count(`Request id`)\n",
            "0                 None                 6745\n",
            "_____________________________________________________________________\n",
            "  date(`Request date`)  count(`Request id`)\n",
            "0                 None                 2650\n"
          ]
        }
      ]
    }
  ]
}